{
 "cells": [
  {
   "cell_type": "markdown",
   "metadata": {},
   "source": [
    "Assignment 3"
   ]
  },
  {
   "cell_type": "markdown",
   "metadata": {},
   "source": [
    "Spacy and Web Scraping Assignment"
   ]
  },
  {
   "cell_type": "markdown",
   "metadata": {},
   "source": [
    "Task 1 Download the text file owlcreek.txt and read it into a variable named owlcreek"
   ]
  },
  {
   "cell_type": "code",
   "execution_count": 1,
   "metadata": {},
   "outputs": [],
   "source": [
    "import os"
   ]
  },
  {
   "cell_type": "code",
   "execution_count": 4,
   "metadata": {},
   "outputs": [],
   "source": [
    "os.chdir(\"C:\\\\Users\\\\91706\\\\Downloads\")"
   ]
  },
  {
   "cell_type": "code",
   "execution_count": 7,
   "metadata": {},
   "outputs": [],
   "source": [
    "with open('owlcreek.txt','r') as f:\n",
    "    owlcreek = f.read()\n",
    "    "
   ]
  },
  {
   "cell_type": "markdown",
   "metadata": {},
   "source": [
    "Task 2\n",
    "Import Spacy and load the 'en_core_web_sm' into a variable named nlp"
   ]
  },
  {
   "cell_type": "code",
   "execution_count": 10,
   "metadata": {},
   "outputs": [],
   "source": [
    "import spacy"
   ]
  },
  {
   "cell_type": "code",
   "execution_count": 11,
   "metadata": {},
   "outputs": [],
   "source": [
    "nlp = spacy.load('en_core_web_sm')"
   ]
  },
  {
   "cell_type": "markdown",
   "metadata": {},
   "source": [
    "Task 3\n",
    "Create a Doc object from the text file loaded into owlcreek and then print the first 50 characters."
   ]
  },
  {
   "cell_type": "code",
   "execution_count": 12,
   "metadata": {},
   "outputs": [],
   "source": [
    "doc = nlp(owlcreek)"
   ]
  },
  {
   "cell_type": "code",
   "execution_count": 19,
   "metadata": {},
   "outputs": [
    {
     "data": {
      "text/plain": [
       "'AN OCCURRENCE AT OWL CREEK BRIDGE\\n\\nby Ambrose Bier'"
      ]
     },
     "execution_count": 19,
     "metadata": {},
     "output_type": "execute_result"
    }
   ],
   "source": [
    "doc.text[:50]"
   ]
  },
  {
   "cell_type": "markdown",
   "metadata": {},
   "source": [
    "Task 4\n",
    "How many tokens are contained in the file ?"
   ]
  },
  {
   "cell_type": "code",
   "execution_count": 20,
   "metadata": {},
   "outputs": [
    {
     "data": {
      "text/plain": [
       "4835"
      ]
     },
     "execution_count": 20,
     "metadata": {},
     "output_type": "execute_result"
    }
   ],
   "source": [
    "len(doc)"
   ]
  },
  {
   "cell_type": "markdown",
   "metadata": {},
   "source": [
    "Task 5\n",
    "How many sentences are contained in the file?"
   ]
  },
  {
   "cell_type": "code",
   "execution_count": 30,
   "metadata": {},
   "outputs": [],
   "source": [
    "l1 = (list(doc.sents))"
   ]
  },
  {
   "cell_type": "code",
   "execution_count": 31,
   "metadata": {},
   "outputs": [
    {
     "data": {
      "text/plain": [
       "217"
      ]
     },
     "execution_count": 31,
     "metadata": {},
     "output_type": "execute_result"
    }
   ],
   "source": [
    "len(l1)"
   ]
  },
  {
   "cell_type": "markdown",
   "metadata": {},
   "source": [
    "Task 6 Print the fourth sentence in the document ?"
   ]
  },
  {
   "cell_type": "code",
   "execution_count": 34,
   "metadata": {},
   "outputs": [
    {
     "name": "stdout",
     "output_type": "stream",
     "text": [
      "The man's hands were behind\n",
      "his back, the wrists bound with a cord.  \n"
     ]
    }
   ],
   "source": [
    "print(l1[3])"
   ]
  },
  {
   "cell_type": "markdown",
   "metadata": {},
   "source": [
    "Task 7\n",
    "For each token in the sentence above, print its text, POS tag, the fine-grained tag , lemma and description of the fine-grained tag"
   ]
  },
  {
   "cell_type": "code",
   "execution_count": 53,
   "metadata": {},
   "outputs": [
    {
     "name": "stdout",
     "output_type": "stream",
     "text": [
      "The        DET        DT       the        determiner\n",
      "man        NOUN       NN       man        noun, singular or mass\n",
      "'s         PART       POS      's         possessive ending\n",
      "hands      NOUN       NNS      hand       noun, plural\n",
      "were       AUX        VBD      be         verb, past tense\n",
      "behind     ADP        IN       behind     conjunction, subordinating or preposition\n",
      "\n",
      "          SPACE      _SP      \n",
      "          None\n",
      "his        PRON       PRP$     -PRON-     pronoun, possessive\n",
      "back       NOUN       NN       back       noun, singular or mass\n",
      ",          PUNCT      ,        ,          punctuation mark, comma\n",
      "the        DET        DT       the        determiner\n",
      "wrists     NOUN       NNS      wrist      noun, plural\n",
      "bound      VERB       VBN      bind       verb, past participle\n",
      "with       ADP        IN       with       conjunction, subordinating or preposition\n",
      "a          DET        DT       a          determiner\n",
      "cord       NOUN       NN       cord       noun, singular or mass\n",
      ".          PUNCT      .        .          punctuation mark, sentence closer\n",
      "           SPACE      _SP                 None\n"
     ]
    }
   ],
   "source": [
    "sentence = l1[3]\n",
    "for token in sentence:\n",
    "    print(f'{token.text:{10}} {token.pos_:{10}} {token.tag_:{8}} {token.lemma_:{10}} {spacy.explain(token.tag_)}')"
   ]
  },
  {
   "cell_type": "markdown",
   "metadata": {},
   "source": [
    "Task 8\n",
    "Provide a frequency count list of POS tags from the entire document"
   ]
  },
  {
   "cell_type": "code",
   "execution_count": 92,
   "metadata": {},
   "outputs": [],
   "source": [
    "pos_counts = doc.count_by(spacy.attrs.POS)"
   ]
  },
  {
   "cell_type": "code",
   "execution_count": 75,
   "metadata": {},
   "outputs": [
    {
     "name": "stdout",
     "output_type": "stream",
     "text": [
      "84. ADJ  : 259\n",
      "85. ADP  : 468\n",
      "86. ADV  : 192\n",
      "87. AUX  : 219\n",
      "89. CCONJ: 129\n",
      "90. DET  : 550\n",
      "91. INTJ : 3\n",
      "92. NOUN : 842\n",
      "93. NUM  : 28\n",
      "94. PART : 58\n",
      "95. PRON : 425\n",
      "96. PROPN: 68\n",
      "97. PUNCT: 571\n",
      "98. SCONJ: 84\n",
      "100. VERB : 464\n",
      "103. SPACE: 475\n"
     ]
    }
   ],
   "source": [
    "for k,v in sorted(pos_counts.items()):\n",
    "    print(f'{k}. {doc.vocab[k].text:{5}}: {v}')"
   ]
  },
  {
   "cell_type": "markdown",
   "metadata": {},
   "source": [
    "Task 9\n",
    "What percentage of tokens are nouns?"
   ]
  },
  {
   "cell_type": "code",
   "execution_count": 103,
   "metadata": {},
   "outputs": [
    {
     "data": {
      "text/plain": [
       "'NOUN'"
      ]
     },
     "execution_count": 103,
     "metadata": {},
     "output_type": "execute_result"
    }
   ],
   "source": [
    "doc.vocab[92].text"
   ]
  },
  {
   "cell_type": "code",
   "execution_count": 93,
   "metadata": {},
   "outputs": [],
   "source": [
    "s1 =sum(pos_counts.values())"
   ]
  },
  {
   "cell_type": "code",
   "execution_count": 105,
   "metadata": {},
   "outputs": [],
   "source": [
    "num = pos_counts[92]"
   ]
  },
  {
   "cell_type": "code",
   "execution_count": 106,
   "metadata": {},
   "outputs": [
    {
     "name": "stdout",
     "output_type": "stream",
     "text": [
      "17.414684591520167\n"
     ]
    }
   ],
   "source": [
    "print((num/s1)*100)"
   ]
  },
  {
   "cell_type": "markdown",
   "metadata": {},
   "source": [
    "Task 10\n",
    "Show the first ten named entities from the doc\n",
    "\n"
   ]
  },
  {
   "cell_type": "code",
   "execution_count": 111,
   "metadata": {},
   "outputs": [
    {
     "name": "stdout",
     "output_type": "stream",
     "text": [
      "OWL - ORG - Companies, agencies, institutions, etc.\n",
      "Ambrose Bierce\n",
      "\n",
      " - ORG - Companies, agencies, institutions, etc.\n",
      "Alabama - GPE - Countries, cities, states\n",
      "twenty feet - QUANTITY - Measurements, as of weight or distance\n",
      "two - CARDINAL - Numerals that do not fall under another type\n",
      "two - CARDINAL - Numerals that do not fall under another type\n",
      "two - CARDINAL - Numerals that do not fall under another type\n",
      "a hundred yards - QUANTITY - Measurements, as of weight or distance\n",
      "four - CARDINAL - Numerals that do not fall under another type\n",
      "thirty-five years of age - DATE - Absolute or relative dates or periods\n"
     ]
    }
   ],
   "source": [
    "for ent in doc.ents[:10]:\n",
    "    print(ent.text+' - '+ent.label_+' - ' + str(spacy.explain(ent.label_)) )"
   ]
  },
  {
   "cell_type": "markdown",
   "metadata": {},
   "source": [
    "Task 11 Display the Dependency Parse for the third sentence"
   ]
  },
  {
   "cell_type": "code",
   "execution_count": 112,
   "metadata": {},
   "outputs": [],
   "source": [
    "sen = l1[2]"
   ]
  },
  {
   "cell_type": "code",
   "execution_count": 114,
   "metadata": {},
   "outputs": [
    {
     "name": "stdout",
     "output_type": "stream",
     "text": [
      "det\n",
      "nsubj\n",
      "ROOT\n",
      "prep\n",
      "det\n",
      "compound\n",
      "pobj\n",
      "prep\n",
      "amod\n",
      "pobj\n",
      "punct\n",
      "advcl\n",
      "prt\n",
      "\n",
      "prep\n",
      "det\n",
      "amod\n",
      "pobj\n",
      "nummod\n",
      "npadvmod\n",
      "advmod\n",
      "punct\n",
      "\n"
     ]
    }
   ],
   "source": [
    "for token in sen:\n",
    "    print(token.dep_)"
   ]
  },
  {
   "cell_type": "markdown",
   "metadata": {},
   "source": [
    "Web Scraping Assignment"
   ]
  },
  {
   "cell_type": "markdown",
   "metadata": {},
   "source": [
    "Task 12\n",
    "Import requests, Beautiful Soup and create a variable url and assign it 'https://www.analyticsvidhya.com/blog/2019/'"
   ]
  },
  {
   "cell_type": "code",
   "execution_count": 51,
   "metadata": {},
   "outputs": [],
   "source": [
    "import requests"
   ]
  },
  {
   "cell_type": "code",
   "execution_count": 52,
   "metadata": {},
   "outputs": [],
   "source": [
    "from bs4 import BeautifulSoup"
   ]
  },
  {
   "cell_type": "code",
   "execution_count": 81,
   "metadata": {},
   "outputs": [],
   "source": [
    "web_page = requests.get('https://www.analyticsvidhya.com/blog/2019/')"
   ]
  },
  {
   "cell_type": "markdown",
   "metadata": {},
   "source": [
    "Task 13\n",
    "using the requests library make a request using the url and check the status code of it"
   ]
  },
  {
   "cell_type": "code",
   "execution_count": 82,
   "metadata": {},
   "outputs": [
    {
     "data": {
      "text/plain": [
       "<Response [200]>"
      ]
     },
     "execution_count": 82,
     "metadata": {},
     "output_type": "execute_result"
    }
   ],
   "source": [
    "web_page"
   ]
  },
  {
   "cell_type": "markdown",
   "metadata": {},
   "source": [
    "Task 14\n",
    "Now create a soup object using BeautifulSoup and pass in the content of the requests object"
   ]
  },
  {
   "cell_type": "code",
   "execution_count": 83,
   "metadata": {},
   "outputs": [],
   "source": [
    "soup = BeautifulSoup(web_page.content,'html.parser')"
   ]
  },
  {
   "cell_type": "markdown",
   "metadata": {},
   "source": [
    "Task 15\n",
    "Extract all the links and titles of the Articles and then save it into a Dataframe. After creating a dataframe print its head."
   ]
  },
  {
   "cell_type": "code",
   "execution_count": 85,
   "metadata": {},
   "outputs": [],
   "source": [
    "article = soup.find('div', class_='row block-streams el-module-3')"
   ]
  },
  {
   "cell_type": "code",
   "execution_count": 87,
   "metadata": {},
   "outputs": [],
   "source": [
    "title_list = []\n",
    "link_list = []\n",
    "for data in soup.find_all('h3'):\n",
    "    try:\n",
    "        title = data.a.text\n",
    "        link = data.a['href']\n",
    "        title_list.append(title)\n",
    "        link_list.append(link)\n",
    "        \n",
    "    except:\n",
    "        pass\n"
   ]
  },
  {
   "cell_type": "code",
   "execution_count": 88,
   "metadata": {},
   "outputs": [],
   "source": [
    "import pandas as pd"
   ]
  },
  {
   "cell_type": "code",
   "execution_count": 89,
   "metadata": {},
   "outputs": [],
   "source": [
    "df1 = pd.DataFrame(data = {'Title':title_list,'Link':link_list}) "
   ]
  },
  {
   "cell_type": "code",
   "execution_count": 90,
   "metadata": {},
   "outputs": [
    {
     "data": {
      "text/html": [
       "<div>\n",
       "<style scoped>\n",
       "    .dataframe tbody tr th:only-of-type {\n",
       "        vertical-align: middle;\n",
       "    }\n",
       "\n",
       "    .dataframe tbody tr th {\n",
       "        vertical-align: top;\n",
       "    }\n",
       "\n",
       "    .dataframe thead th {\n",
       "        text-align: right;\n",
       "    }\n",
       "</style>\n",
       "<table border=\"1\" class=\"dataframe\">\n",
       "  <thead>\n",
       "    <tr style=\"text-align: right;\">\n",
       "      <th></th>\n",
       "      <th>Title</th>\n",
       "      <th>Link</th>\n",
       "    </tr>\n",
       "  </thead>\n",
       "  <tbody>\n",
       "    <tr>\n",
       "      <th>0</th>\n",
       "      <td>\\n5 Key Reasons Why Data Scientists Are Quitti...</td>\n",
       "      <td>https://www.analyticsvidhya.com/blog/2019/12/5...</td>\n",
       "    </tr>\n",
       "    <tr>\n",
       "      <th>1</th>\n",
       "      <td>\\n5 Weird and Hilarious Uses of Data Science</td>\n",
       "      <td>https://www.analyticsvidhya.com/blog/2019/12/f...</td>\n",
       "    </tr>\n",
       "    <tr>\n",
       "      <th>2</th>\n",
       "      <td>\\n2019 In-Review and Trends for 2020 – A Techn...</td>\n",
       "      <td>https://www.analyticsvidhya.com/blog/2019/12/2...</td>\n",
       "    </tr>\n",
       "    <tr>\n",
       "      <th>3</th>\n",
       "      <td>\\n30 Challenging Open Source Data Science Proj...</td>\n",
       "      <td>https://www.analyticsvidhya.com/blog/2019/12/3...</td>\n",
       "    </tr>\n",
       "    <tr>\n",
       "      <th>4</th>\n",
       "      <td>\\n20 Most Popular Machine Learning and Deep Le...</td>\n",
       "      <td>https://www.analyticsvidhya.com/blog/2019/12/2...</td>\n",
       "    </tr>\n",
       "  </tbody>\n",
       "</table>\n",
       "</div>"
      ],
      "text/plain": [
       "                                               Title  \\\n",
       "0  \\n5 Key Reasons Why Data Scientists Are Quitti...   \n",
       "1      \\n5 Weird and Hilarious Uses of Data Science    \n",
       "2  \\n2019 In-Review and Trends for 2020 – A Techn...   \n",
       "3  \\n30 Challenging Open Source Data Science Proj...   \n",
       "4  \\n20 Most Popular Machine Learning and Deep Le...   \n",
       "\n",
       "                                                Link  \n",
       "0  https://www.analyticsvidhya.com/blog/2019/12/5...  \n",
       "1  https://www.analyticsvidhya.com/blog/2019/12/f...  \n",
       "2  https://www.analyticsvidhya.com/blog/2019/12/2...  \n",
       "3  https://www.analyticsvidhya.com/blog/2019/12/3...  \n",
       "4  https://www.analyticsvidhya.com/blog/2019/12/2...  "
      ]
     },
     "execution_count": 90,
     "metadata": {},
     "output_type": "execute_result"
    }
   ],
   "source": [
    "df1.head()"
   ]
  },
  {
   "cell_type": "markdown",
   "metadata": {},
   "source": [
    "Task 16\n",
    "Now we just scraped for page 1 there are total 14 pages, Now I want you to navigate over each page scrape title and links for the same."
   ]
  },
  {
   "cell_type": "code",
   "execution_count": 159,
   "metadata": {},
   "outputs": [
    {
     "name": "stdout",
     "output_type": "stream",
     "text": [
      "1 done\n",
      "2 done\n",
      "3 done\n",
      "4 done\n",
      "5 done\n",
      "6 done\n",
      "7 done\n",
      "8 done\n",
      "9 done\n",
      "10 done\n",
      "11 done\n",
      "12 done\n",
      "13 done\n",
      "14 done\n"
     ]
    }
   ],
   "source": [
    "title_list_all = []\n",
    "link_list_all = []\n",
    "link_jumper = 'https://www.analyticsvidhya.com/blog/2019/'\n",
    "i = 0\n",
    "while i < 14:\n",
    "    web_page = requests.get(link_jumper)\n",
    "    soup = BeautifulSoup(web_page.content,'html.parser')\n",
    "    for data in soup.find_all('h3'):\n",
    "        try:\n",
    "            title = data.a.text\n",
    "            link = data.a['href']\n",
    "            title_list_all.append(title)\n",
    "            link_list_all.append(link)\n",
    "\n",
    "        except:\n",
    "            pass\n",
    "    jump_next = soup.find(class_ = 'next')\n",
    "    link_jumper = jump_next['href']\n",
    "    i += 1\n",
    "    print(i,'done')\n"
   ]
  },
  {
   "cell_type": "markdown",
   "metadata": {},
   "source": [
    "Task 17\n",
    "Drop the duplicates and Print the shape of the dataframe"
   ]
  },
  {
   "cell_type": "code",
   "execution_count": 151,
   "metadata": {},
   "outputs": [],
   "source": [
    "titles_wo_dup = []\n",
    "title_list_all = [titles_wo_dup.append(x) for x in title_list_all if x not in titles_wo_dup]"
   ]
  },
  {
   "cell_type": "code",
   "execution_count": 149,
   "metadata": {},
   "outputs": [],
   "source": [
    "links_wo_dup = []\n",
    "link_list_all = [links_wo_dup.append(x) for x in link_list_all if x not in links_wo_dup]"
   ]
  },
  {
   "cell_type": "code",
   "execution_count": 153,
   "metadata": {},
   "outputs": [
    {
     "data": {
      "text/plain": [
       "144"
      ]
     },
     "execution_count": 153,
     "metadata": {},
     "output_type": "execute_result"
    }
   ],
   "source": [
    "len(titles_wo_dup)"
   ]
  },
  {
   "cell_type": "code",
   "execution_count": 154,
   "metadata": {},
   "outputs": [
    {
     "data": {
      "text/plain": [
       "144"
      ]
     },
     "execution_count": 154,
     "metadata": {},
     "output_type": "execute_result"
    }
   ],
   "source": [
    "len(links_wo_dup)"
   ]
  },
  {
   "cell_type": "code",
   "execution_count": 280,
   "metadata": {},
   "outputs": [],
   "source": [
    "df1 = pd.DataFrame(data = {'Title':titles_wo_dup,'Link':links_wo_dup}) "
   ]
  },
  {
   "cell_type": "code",
   "execution_count": 283,
   "metadata": {},
   "outputs": [
    {
     "data": {
      "text/plain": [
       "(144, 2)"
      ]
     },
     "execution_count": 283,
     "metadata": {},
     "output_type": "execute_result"
    }
   ],
   "source": [
    "df1.shape"
   ]
  },
  {
   "cell_type": "markdown",
   "metadata": {},
   "source": [
    "Task 18\n",
    "Now that we have links to all the articles publised in 2019 lets now get its content.\n",
    "\n",
    "Iterate over each link, extract the content ( div with class=\"main-content\") and append it to the new column in articles_df"
   ]
  },
  {
   "cell_type": "code",
   "execution_count": 433,
   "metadata": {},
   "outputs": [],
   "source": [
    "lst = []\n",
    "for x in links_wo_dup:\n",
    "    page = requests.get(x)\n",
    "    soup = BeautifulSoup(page.content,'html.parser')\n",
    "    article = soup.find('div', class_= \"main-content\")\n",
    "    p = article.contents\n",
    "    lst.append(p)"
   ]
  },
  {
   "cell_type": "code",
   "execution_count": 477,
   "metadata": {},
   "outputs": [],
   "source": [
    "df1['content'] = lst"
   ]
  },
  {
   "cell_type": "code",
   "execution_count": 478,
   "metadata": {},
   "outputs": [
    {
     "data": {
      "text/html": [
       "<div>\n",
       "<style scoped>\n",
       "    .dataframe tbody tr th:only-of-type {\n",
       "        vertical-align: middle;\n",
       "    }\n",
       "\n",
       "    .dataframe tbody tr th {\n",
       "        vertical-align: top;\n",
       "    }\n",
       "\n",
       "    .dataframe thead th {\n",
       "        text-align: right;\n",
       "    }\n",
       "</style>\n",
       "<table border=\"1\" class=\"dataframe\">\n",
       "  <thead>\n",
       "    <tr style=\"text-align: right;\">\n",
       "      <th></th>\n",
       "      <th>Title</th>\n",
       "      <th>Link</th>\n",
       "      <th>content</th>\n",
       "    </tr>\n",
       "  </thead>\n",
       "  <tbody>\n",
       "    <tr>\n",
       "      <th>0</th>\n",
       "      <td>\\n5 Key Reasons Why Data Scientists Are Quitti...</td>\n",
       "      <td>https://www.analyticsvidhya.com/blog/2019/12/5...</td>\n",
       "      <td>[\n",
       ", &lt;div class=\"maha-crumbs\"&gt;&lt;span&gt;&lt;span&gt;&lt;a hr...</td>\n",
       "    </tr>\n",
       "    <tr>\n",
       "      <th>1</th>\n",
       "      <td>\\n5 Weird and Hilarious Uses of Data Science</td>\n",
       "      <td>https://www.analyticsvidhya.com/blog/2019/12/f...</td>\n",
       "      <td>[\n",
       ", &lt;div class=\"maha-crumbs\"&gt;&lt;span&gt;&lt;span&gt;&lt;a hr...</td>\n",
       "    </tr>\n",
       "    <tr>\n",
       "      <th>2</th>\n",
       "      <td>\\n2019 In-Review and Trends for 2020 – A Techn...</td>\n",
       "      <td>https://www.analyticsvidhya.com/blog/2019/12/2...</td>\n",
       "      <td>[\n",
       ", &lt;div class=\"maha-crumbs\"&gt;&lt;span&gt;&lt;span&gt;&lt;a hr...</td>\n",
       "    </tr>\n",
       "    <tr>\n",
       "      <th>3</th>\n",
       "      <td>\\n30 Challenging Open Source Data Science Proj...</td>\n",
       "      <td>https://www.analyticsvidhya.com/blog/2019/12/3...</td>\n",
       "      <td>[\n",
       ", &lt;div class=\"maha-crumbs\"&gt;&lt;span&gt;&lt;span&gt;&lt;a hr...</td>\n",
       "    </tr>\n",
       "    <tr>\n",
       "      <th>4</th>\n",
       "      <td>\\n20 Most Popular Machine Learning and Deep Le...</td>\n",
       "      <td>https://www.analyticsvidhya.com/blog/2019/12/2...</td>\n",
       "      <td>[\n",
       ", &lt;div class=\"maha-crumbs\"&gt;&lt;span&gt;&lt;span&gt;&lt;a hr...</td>\n",
       "    </tr>\n",
       "    <tr>\n",
       "      <th>5</th>\n",
       "      <td>\\nDecoding the Best Machine Learning Papers fr...</td>\n",
       "      <td>https://www.analyticsvidhya.com/blog/2019/12/n...</td>\n",
       "      <td>[\n",
       ", &lt;div class=\"maha-crumbs\"&gt;&lt;span&gt;&lt;span&gt;&lt;a hr...</td>\n",
       "    </tr>\n",
       "    <tr>\n",
       "      <th>6</th>\n",
       "      <td>\\nAn Exhaustive Guide to Detecting and Fightin...</td>\n",
       "      <td>https://www.analyticsvidhya.com/blog/2019/12/d...</td>\n",
       "      <td>[\n",
       ", &lt;div class=\"maha-crumbs\"&gt;&lt;span&gt;&lt;span&gt;&lt;a hr...</td>\n",
       "    </tr>\n",
       "    <tr>\n",
       "      <th>7</th>\n",
       "      <td>\\nHow to use a Machine Learning Model to Make ...</td>\n",
       "      <td>https://www.analyticsvidhya.com/blog/2019/12/s...</td>\n",
       "      <td>[\n",
       ", &lt;div class=\"maha-crumbs\"&gt;&lt;span&gt;&lt;span&gt;&lt;a hr...</td>\n",
       "    </tr>\n",
       "    <tr>\n",
       "      <th>8</th>\n",
       "      <td>\\n10 Exciting Real-World Applications of AI in...</td>\n",
       "      <td>https://www.analyticsvidhya.com/blog/2019/12/1...</td>\n",
       "      <td>[\n",
       ", &lt;div class=\"maha-crumbs\"&gt;&lt;span&gt;&lt;span&gt;&lt;a hr...</td>\n",
       "    </tr>\n",
       "    <tr>\n",
       "      <th>9</th>\n",
       "      <td>\\nGame Theory 101: Decision Making in a Compet...</td>\n",
       "      <td>https://www.analyticsvidhya.com/blog/2019/12/g...</td>\n",
       "      <td>[\n",
       ", &lt;div class=\"maha-crumbs\"&gt;&lt;span&gt;&lt;span&gt;&lt;a hr...</td>\n",
       "    </tr>\n",
       "    <tr>\n",
       "      <th>10</th>\n",
       "      <td>\\nWhat are Python Iterators and Generators? Pr...</td>\n",
       "      <td>https://www.analyticsvidhya.com/blog/2020/05/p...</td>\n",
       "      <td>[\n",
       ", &lt;div class=\"maha-crumbs\"&gt;&lt;span&gt;&lt;span&gt;&lt;a hr...</td>\n",
       "    </tr>\n",
       "    <tr>\n",
       "      <th>11</th>\n",
       "      <td>\\n5 Handy Excel Tricks for Conditional Formatt...</td>\n",
       "      <td>https://www.analyticsvidhya.com/blog/2020/05/5...</td>\n",
       "      <td>[\n",
       ", &lt;div class=\"maha-crumbs\"&gt;&lt;span&gt;&lt;span&gt;&lt;a hr...</td>\n",
       "    </tr>\n",
       "    <tr>\n",
       "      <th>12</th>\n",
       "      <td>\\nNew to Git and GitHub? This Essential Beginn...</td>\n",
       "      <td>https://www.analyticsvidhya.com/blog/2020/05/g...</td>\n",
       "      <td>[\n",
       ", &lt;div class=\"maha-crumbs\"&gt;&lt;span&gt;&lt;span&gt;&lt;a hr...</td>\n",
       "    </tr>\n",
       "    <tr>\n",
       "      <th>13</th>\n",
       "      <td>\\nRunning Low on Time? Use PyCaret to Build yo...</td>\n",
       "      <td>https://www.analyticsvidhya.com/blog/2020/05/p...</td>\n",
       "      <td>[\n",
       ", &lt;div class=\"maha-crumbs\"&gt;&lt;span&gt;&lt;span&gt;&lt;a hr...</td>\n",
       "    </tr>\n",
       "    <tr>\n",
       "      <th>14</th>\n",
       "      <td>\\n6 Powerful Feature Engineering Techniques Fo...</td>\n",
       "      <td>https://www.analyticsvidhya.com/blog/2019/12/6...</td>\n",
       "      <td>[\n",
       ", &lt;div class=\"maha-crumbs\"&gt;&lt;span&gt;&lt;span&gt;&lt;a hr...</td>\n",
       "    </tr>\n",
       "    <tr>\n",
       "      <th>15</th>\n",
       "      <td>\\nImage Augmentation for Deep Learning using P...</td>\n",
       "      <td>https://www.analyticsvidhya.com/blog/2019/12/i...</td>\n",
       "      <td>[\n",
       ", &lt;div class=\"maha-crumbs\"&gt;&lt;span&gt;&lt;span&gt;&lt;a hr...</td>\n",
       "    </tr>\n",
       "    <tr>\n",
       "      <th>16</th>\n",
       "      <td>\\nCreate Natural Language Processing based App...</td>\n",
       "      <td>https://www.analyticsvidhya.com/blog/2019/12/c...</td>\n",
       "      <td>[\n",
       ", &lt;div class=\"maha-crumbs\"&gt;&lt;span&gt;&lt;span&gt;&lt;a hr...</td>\n",
       "    </tr>\n",
       "    <tr>\n",
       "      <th>17</th>\n",
       "      <td>\\nData Science Immersive Bootcamp – Hands-on I...</td>\n",
       "      <td>https://www.analyticsvidhya.com/blog/2019/12/d...</td>\n",
       "      <td>[\n",
       ", &lt;div class=\"maha-crumbs\"&gt;&lt;span&gt;&lt;span&gt;&lt;a hr...</td>\n",
       "    </tr>\n",
       "    <tr>\n",
       "      <th>18</th>\n",
       "      <td>\\n6 Challenging Open Source Data Science Proje...</td>\n",
       "      <td>https://www.analyticsvidhya.com/blog/2019/12/6...</td>\n",
       "      <td>[\n",
       ", &lt;div class=\"maha-crumbs\"&gt;&lt;span&gt;&lt;span&gt;&lt;a hr...</td>\n",
       "    </tr>\n",
       "    <tr>\n",
       "      <th>19</th>\n",
       "      <td>\\nDSAT – First Ever Adaptive Learning Platform...</td>\n",
       "      <td>https://www.analyticsvidhya.com/blog/2019/11/d...</td>\n",
       "      <td>[\n",
       ", &lt;div class=\"maha-crumbs\"&gt;&lt;span&gt;&lt;span&gt;&lt;a hr...</td>\n",
       "    </tr>\n",
       "    <tr>\n",
       "      <th>20</th>\n",
       "      <td>\\nWhat is the Chi-Square Test and How Does it ...</td>\n",
       "      <td>https://www.analyticsvidhya.com/blog/2019/11/w...</td>\n",
       "      <td>[\n",
       ", &lt;div class=\"maha-crumbs\"&gt;&lt;span&gt;&lt;span&gt;&lt;a hr...</td>\n",
       "    </tr>\n",
       "    <tr>\n",
       "      <th>21</th>\n",
       "      <td>\\nA Unique Method for Machine Learning Interpr...</td>\n",
       "      <td>https://www.analyticsvidhya.com/blog/2019/11/s...</td>\n",
       "      <td>[\n",
       ", &lt;div class=\"maha-crumbs\"&gt;&lt;span&gt;&lt;span&gt;&lt;a hr...</td>\n",
       "    </tr>\n",
       "    <tr>\n",
       "      <th>22</th>\n",
       "      <td>\\nA Comprehensive Guide to Attention Mechanism...</td>\n",
       "      <td>https://www.analyticsvidhya.com/blog/2019/11/c...</td>\n",
       "      <td>[\n",
       ", &lt;div class=\"maha-crumbs\"&gt;&lt;span&gt;&lt;span&gt;&lt;a hr...</td>\n",
       "    </tr>\n",
       "    <tr>\n",
       "      <th>23</th>\n",
       "      <td>\\nWant to Build Machine Learning Pipelines? A ...</td>\n",
       "      <td>https://www.analyticsvidhya.com/blog/2019/11/b...</td>\n",
       "      <td>[\n",
       ", &lt;div class=\"maha-crumbs\"&gt;&lt;span&gt;&lt;span&gt;&lt;a hr...</td>\n",
       "    </tr>\n",
       "    <tr>\n",
       "      <th>24</th>\n",
       "      <td>\\nIntroduction to Apple’s Core ML 3 – Build De...</td>\n",
       "      <td>https://www.analyticsvidhya.com/blog/2019/11/i...</td>\n",
       "      <td>[\n",
       ", &lt;div class=\"maha-crumbs\"&gt;&lt;span&gt;&lt;span&gt;&lt;a hr...</td>\n",
       "    </tr>\n",
       "    <tr>\n",
       "      <th>25</th>\n",
       "      <td>\\nGame (Theory) for AI? An Illustrated Guide f...</td>\n",
       "      <td>https://www.analyticsvidhya.com/blog/2019/11/g...</td>\n",
       "      <td>[\n",
       ", &lt;div class=\"maha-crumbs\"&gt;&lt;span&gt;&lt;span&gt;&lt;a hr...</td>\n",
       "    </tr>\n",
       "    <tr>\n",
       "      <th>26</th>\n",
       "      <td>\\n4 Proven Tricks to Improve your Deep Learnin...</td>\n",
       "      <td>https://www.analyticsvidhya.com/blog/2019/11/4...</td>\n",
       "      <td>[\n",
       ", &lt;div class=\"maha-crumbs\"&gt;&lt;span&gt;&lt;span&gt;&lt;a hr...</td>\n",
       "    </tr>\n",
       "    <tr>\n",
       "      <th>27</th>\n",
       "      <td>\\nLearn How to Perform Feature Extraction from...</td>\n",
       "      <td>https://www.analyticsvidhya.com/blog/2019/11/g...</td>\n",
       "      <td>[\n",
       ", &lt;div class=\"maha-crumbs\"&gt;&lt;span&gt;&lt;span&gt;&lt;a hr...</td>\n",
       "    </tr>\n",
       "    <tr>\n",
       "      <th>28</th>\n",
       "      <td>\\nMaster Data Engineering with these 6 Session...</td>\n",
       "      <td>https://www.analyticsvidhya.com/blog/2019/11/m...</td>\n",
       "      <td>[\n",
       ", &lt;div class=\"maha-crumbs\"&gt;&lt;span&gt;&lt;span&gt;&lt;a hr...</td>\n",
       "    </tr>\n",
       "    <tr>\n",
       "      <th>29</th>\n",
       "      <td>\\n6 Exciting Open Source Data Science Projects...</td>\n",
       "      <td>https://www.analyticsvidhya.com/blog/2019/11/6...</td>\n",
       "      <td>[\n",
       ", &lt;div class=\"maha-crumbs\"&gt;&lt;span&gt;&lt;span&gt;&lt;a hr...</td>\n",
       "    </tr>\n",
       "    <tr>\n",
       "      <th>...</th>\n",
       "      <td>...</td>\n",
       "      <td>...</td>\n",
       "      <td>...</td>\n",
       "    </tr>\n",
       "    <tr>\n",
       "      <th>114</th>\n",
       "      <td>\\nDecoding the Best Papers from ICLR 2019 – Ne...</td>\n",
       "      <td>https://www.analyticsvidhya.com/blog/2019/05/b...</td>\n",
       "      <td>[\n",
       ", &lt;div class=\"maha-crumbs\"&gt;&lt;span&gt;&lt;span&gt;&lt;a hr...</td>\n",
       "    </tr>\n",
       "    <tr>\n",
       "      <th>115</th>\n",
       "      <td>\\nA Beginner’s Guide to Hierarchical Clusterin...</td>\n",
       "      <td>https://www.analyticsvidhya.com/blog/2019/05/b...</td>\n",
       "      <td>[\n",
       ", &lt;div class=\"maha-crumbs\"&gt;&lt;span&gt;&lt;span&gt;&lt;a hr...</td>\n",
       "    </tr>\n",
       "    <tr>\n",
       "      <th>116</th>\n",
       "      <td>\\nUsing the Power of Deep Learning for Cyber S...</td>\n",
       "      <td>https://www.analyticsvidhya.com/blog/2019/05/u...</td>\n",
       "      <td>[\n",
       ", &lt;div class=\"maha-crumbs\"&gt;&lt;span&gt;&lt;span&gt;&lt;a hr...</td>\n",
       "    </tr>\n",
       "    <tr>\n",
       "      <th>117</th>\n",
       "      <td>\\nData Science Project: Scraping YouTube Data ...</td>\n",
       "      <td>https://www.analyticsvidhya.com/blog/2019/05/s...</td>\n",
       "      <td>[\n",
       ", &lt;div class=\"maha-crumbs\"&gt;&lt;span&gt;&lt;span&gt;&lt;a hr...</td>\n",
       "    </tr>\n",
       "    <tr>\n",
       "      <th>118</th>\n",
       "      <td>\\nStatistics for Data Science: Introduction to...</td>\n",
       "      <td>https://www.analyticsvidhya.com/blog/2019/05/s...</td>\n",
       "      <td>[\n",
       ", &lt;div class=\"maha-crumbs\"&gt;&lt;span&gt;&lt;span&gt;&lt;a hr...</td>\n",
       "    </tr>\n",
       "    <tr>\n",
       "      <th>119</th>\n",
       "      <td>\\n10 Useful Data Analysis Expressions (DAX) Fu...</td>\n",
       "      <td>https://www.analyticsvidhya.com/blog/2019/05/1...</td>\n",
       "      <td>[\n",
       ", &lt;div class=\"maha-crumbs\"&gt;&lt;span&gt;&lt;span&gt;&lt;a hr...</td>\n",
       "    </tr>\n",
       "    <tr>\n",
       "      <th>120</th>\n",
       "      <td>\\nA Beginner’s Guide to Tidyverse – The Most P...</td>\n",
       "      <td>https://www.analyticsvidhya.com/blog/2019/05/b...</td>\n",
       "      <td>[\n",
       ", &lt;div class=\"maha-crumbs\"&gt;&lt;span&gt;&lt;span&gt;&lt;a hr...</td>\n",
       "    </tr>\n",
       "    <tr>\n",
       "      <th>121</th>\n",
       "      <td>\\nA Practical Introduction to Prescriptive Ana...</td>\n",
       "      <td>https://www.analyticsvidhya.com/blog/2019/05/p...</td>\n",
       "      <td>[\n",
       ", &lt;div class=\"maha-crumbs\"&gt;&lt;span&gt;&lt;span&gt;&lt;a hr...</td>\n",
       "    </tr>\n",
       "    <tr>\n",
       "      <th>122</th>\n",
       "      <td>\\nExtracting and Analyzing 1000 Basketball Gam...</td>\n",
       "      <td>https://www.analyticsvidhya.com/blog/2019/05/s...</td>\n",
       "      <td>[\n",
       ", &lt;div class=\"maha-crumbs\"&gt;&lt;span&gt;&lt;span&gt;&lt;a hr...</td>\n",
       "    </tr>\n",
       "    <tr>\n",
       "      <th>123</th>\n",
       "      <td>\\nA Guide to Understanding Convolutional Neura...</td>\n",
       "      <td>https://www.analyticsvidhya.com/blog/2019/05/u...</td>\n",
       "      <td>[\n",
       ", &lt;div class=\"maha-crumbs\"&gt;&lt;span&gt;&lt;span&gt;&lt;a hr...</td>\n",
       "    </tr>\n",
       "    <tr>\n",
       "      <th>124</th>\n",
       "      <td>\\nStatistics for Data Science: Introduction to...</td>\n",
       "      <td>https://www.analyticsvidhya.com/blog/2019/05/s...</td>\n",
       "      <td>[\n",
       ", &lt;div class=\"maha-crumbs\"&gt;&lt;span&gt;&lt;span&gt;&lt;a hr...</td>\n",
       "    </tr>\n",
       "    <tr>\n",
       "      <th>125</th>\n",
       "      <td>\\nDon’t Miss these 5 Data Science GitHub Proje...</td>\n",
       "      <td>https://www.analyticsvidhya.com/blog/2019/05/5...</td>\n",
       "      <td>[\n",
       ", &lt;div class=\"maha-crumbs\"&gt;&lt;span&gt;&lt;span&gt;&lt;a hr...</td>\n",
       "    </tr>\n",
       "    <tr>\n",
       "      <th>126</th>\n",
       "      <td>\\nLast Chance to Register on our Flagship Prog...</td>\n",
       "      <td>https://www.analyticsvidhya.com/blog/2019/05/l...</td>\n",
       "      <td>[\n",
       ", &lt;div class=\"maha-crumbs\"&gt;&lt;span&gt;&lt;span&gt;&lt;a hr...</td>\n",
       "    </tr>\n",
       "    <tr>\n",
       "      <th>127</th>\n",
       "      <td>\\nWinning Solutions and Approaches from the Ma...</td>\n",
       "      <td>https://www.analyticsvidhya.com/blog/2019/04/m...</td>\n",
       "      <td>[\n",
       ", &lt;div class=\"maha-crumbs\"&gt;&lt;span&gt;&lt;span&gt;&lt;a hr...</td>\n",
       "    </tr>\n",
       "    <tr>\n",
       "      <th>128</th>\n",
       "      <td>\\n8 Awesome Data Science Capstone Projects fro...</td>\n",
       "      <td>https://www.analyticsvidhya.com/blog/2019/04/8...</td>\n",
       "      <td>[\n",
       ", &lt;div class=\"maha-crumbs\"&gt;&lt;span&gt;&lt;span&gt;&lt;a hr...</td>\n",
       "    </tr>\n",
       "    <tr>\n",
       "      <th>129</th>\n",
       "      <td>\\nLearn how to Build and Deploy a Chatbot in M...</td>\n",
       "      <td>https://www.analyticsvidhya.com/blog/2019/04/l...</td>\n",
       "      <td>[\n",
       ", &lt;div class=\"maha-crumbs\"&gt;&lt;span&gt;&lt;span&gt;&lt;a hr...</td>\n",
       "    </tr>\n",
       "    <tr>\n",
       "      <th>130</th>\n",
       "      <td>\\nHow I Built Animated Plots in R to Analyze m...</td>\n",
       "      <td>https://www.analyticsvidhya.com/blog/2019/04/h...</td>\n",
       "      <td>[\n",
       ", &lt;div class=\"maha-crumbs\"&gt;&lt;span&gt;&lt;span&gt;&lt;a hr...</td>\n",
       "    </tr>\n",
       "    <tr>\n",
       "      <th>131</th>\n",
       "      <td>\\nDataHack Radio #22: Exploring Computer Visio...</td>\n",
       "      <td>https://www.analyticsvidhya.com/blog/2019/04/d...</td>\n",
       "      <td>[\n",
       ", &lt;div class=\"maha-crumbs\"&gt;&lt;span&gt;&lt;span&gt;&lt;a hr...</td>\n",
       "    </tr>\n",
       "    <tr>\n",
       "      <th>132</th>\n",
       "      <td>\\nPredicting Movie Genres using NLP – An Aweso...</td>\n",
       "      <td>https://www.analyticsvidhya.com/blog/2019/04/p...</td>\n",
       "      <td>[\n",
       ", &lt;div class=\"maha-crumbs\"&gt;&lt;span&gt;&lt;span&gt;&lt;a hr...</td>\n",
       "    </tr>\n",
       "    <tr>\n",
       "      <th>133</th>\n",
       "      <td>\\nA Hands-On Introduction to Deep Q-Learning u...</td>\n",
       "      <td>https://www.analyticsvidhya.com/blog/2019/04/i...</td>\n",
       "      <td>[\n",
       ", &lt;div class=\"maha-crumbs\"&gt;&lt;span&gt;&lt;span&gt;&lt;a hr...</td>\n",
       "    </tr>\n",
       "    <tr>\n",
       "      <th>134</th>\n",
       "      <td>\\n8 Useful R Packages for Data Science You Are...</td>\n",
       "      <td>https://www.analyticsvidhya.com/blog/2019/04/8...</td>\n",
       "      <td>[\n",
       ", &lt;div class=\"maha-crumbs\"&gt;&lt;span&gt;&lt;span&gt;&lt;a hr...</td>\n",
       "    </tr>\n",
       "    <tr>\n",
       "      <th>135</th>\n",
       "      <td>\\nBuild your First Multi-Label Image Classific...</td>\n",
       "      <td>https://www.analyticsvidhya.com/blog/2019/04/b...</td>\n",
       "      <td>[\n",
       ", &lt;div class=\"maha-crumbs\"&gt;&lt;span&gt;&lt;span&gt;&lt;a hr...</td>\n",
       "    </tr>\n",
       "    <tr>\n",
       "      <th>136</th>\n",
       "      <td>\\nDataHack Radio #21: Detecting Fake News usin...</td>\n",
       "      <td>https://www.analyticsvidhya.com/blog/2019/04/d...</td>\n",
       "      <td>[\n",
       ", &lt;div class=\"maha-crumbs\"&gt;&lt;span&gt;&lt;span&gt;&lt;a hr...</td>\n",
       "    </tr>\n",
       "    <tr>\n",
       "      <th>137</th>\n",
       "      <td>\\nTop 5 Interesting Applications of GANs for E...</td>\n",
       "      <td>https://www.analyticsvidhya.com/blog/2019/04/t...</td>\n",
       "      <td>[\n",
       ", &lt;div class=\"maha-crumbs\"&gt;&lt;span&gt;&lt;span&gt;&lt;a hr...</td>\n",
       "    </tr>\n",
       "    <tr>\n",
       "      <th>138</th>\n",
       "      <td>\\nTop 5 Machine Learning GitHub Repositories a...</td>\n",
       "      <td>https://www.analyticsvidhya.com/blog/2019/04/t...</td>\n",
       "      <td>[\n",
       ", &lt;div class=\"maha-crumbs\"&gt;&lt;span&gt;&lt;span&gt;&lt;a hr...</td>\n",
       "    </tr>\n",
       "    <tr>\n",
       "      <th>139</th>\n",
       "      <td>\\nComputer Vision Tutorial: A Step-by-Step Int...</td>\n",
       "      <td>https://www.analyticsvidhya.com/blog/2019/04/i...</td>\n",
       "      <td>[\n",
       ", &lt;div class=\"maha-crumbs\"&gt;&lt;span&gt;&lt;span&gt;&lt;a hr...</td>\n",
       "    </tr>\n",
       "    <tr>\n",
       "      <th>140</th>\n",
       "      <td>\\n16 OpenCV Functions to Start your Computer V...</td>\n",
       "      <td>https://www.analyticsvidhya.com/blog/2019/03/o...</td>\n",
       "      <td>[\n",
       ", &lt;div class=\"maha-crumbs\"&gt;&lt;span&gt;&lt;span&gt;&lt;a hr...</td>\n",
       "    </tr>\n",
       "    <tr>\n",
       "      <th>141</th>\n",
       "      <td>\\nInfographic: 11 Steps to Transition into Dat...</td>\n",
       "      <td>https://www.analyticsvidhya.com/blog/2019/03/i...</td>\n",
       "      <td>[\n",
       ", &lt;div class=\"maha-crumbs\"&gt;&lt;span&gt;&lt;span&gt;&lt;a hr...</td>\n",
       "    </tr>\n",
       "    <tr>\n",
       "      <th>142</th>\n",
       "      <td>\\nDataHack Radio #20: Building Interpretable M...</td>\n",
       "      <td>https://www.analyticsvidhya.com/blog/2019/03/d...</td>\n",
       "      <td>[\n",
       ", &lt;div class=\"maha-crumbs\"&gt;&lt;span&gt;&lt;span&gt;&lt;a hr...</td>\n",
       "    </tr>\n",
       "    <tr>\n",
       "      <th>143</th>\n",
       "      <td>\\n8 Excellent Pretrained Models to get you Sta...</td>\n",
       "      <td>https://www.analyticsvidhya.com/blog/2019/03/p...</td>\n",
       "      <td>[\n",
       ", &lt;div class=\"maha-crumbs\"&gt;&lt;span&gt;&lt;span&gt;&lt;a hr...</td>\n",
       "    </tr>\n",
       "  </tbody>\n",
       "</table>\n",
       "<p>144 rows × 3 columns</p>\n",
       "</div>"
      ],
      "text/plain": [
       "                                                 Title  \\\n",
       "0    \\n5 Key Reasons Why Data Scientists Are Quitti...   \n",
       "1        \\n5 Weird and Hilarious Uses of Data Science    \n",
       "2    \\n2019 In-Review and Trends for 2020 – A Techn...   \n",
       "3    \\n30 Challenging Open Source Data Science Proj...   \n",
       "4    \\n20 Most Popular Machine Learning and Deep Le...   \n",
       "5    \\nDecoding the Best Machine Learning Papers fr...   \n",
       "6    \\nAn Exhaustive Guide to Detecting and Fightin...   \n",
       "7    \\nHow to use a Machine Learning Model to Make ...   \n",
       "8    \\n10 Exciting Real-World Applications of AI in...   \n",
       "9    \\nGame Theory 101: Decision Making in a Compet...   \n",
       "10   \\nWhat are Python Iterators and Generators? Pr...   \n",
       "11   \\n5 Handy Excel Tricks for Conditional Formatt...   \n",
       "12   \\nNew to Git and GitHub? This Essential Beginn...   \n",
       "13   \\nRunning Low on Time? Use PyCaret to Build yo...   \n",
       "14   \\n6 Powerful Feature Engineering Techniques Fo...   \n",
       "15   \\nImage Augmentation for Deep Learning using P...   \n",
       "16   \\nCreate Natural Language Processing based App...   \n",
       "17   \\nData Science Immersive Bootcamp – Hands-on I...   \n",
       "18   \\n6 Challenging Open Source Data Science Proje...   \n",
       "19   \\nDSAT – First Ever Adaptive Learning Platform...   \n",
       "20   \\nWhat is the Chi-Square Test and How Does it ...   \n",
       "21   \\nA Unique Method for Machine Learning Interpr...   \n",
       "22   \\nA Comprehensive Guide to Attention Mechanism...   \n",
       "23   \\nWant to Build Machine Learning Pipelines? A ...   \n",
       "24   \\nIntroduction to Apple’s Core ML 3 – Build De...   \n",
       "25   \\nGame (Theory) for AI? An Illustrated Guide f...   \n",
       "26   \\n4 Proven Tricks to Improve your Deep Learnin...   \n",
       "27   \\nLearn How to Perform Feature Extraction from...   \n",
       "28   \\nMaster Data Engineering with these 6 Session...   \n",
       "29   \\n6 Exciting Open Source Data Science Projects...   \n",
       "..                                                 ...   \n",
       "114  \\nDecoding the Best Papers from ICLR 2019 – Ne...   \n",
       "115  \\nA Beginner’s Guide to Hierarchical Clusterin...   \n",
       "116  \\nUsing the Power of Deep Learning for Cyber S...   \n",
       "117  \\nData Science Project: Scraping YouTube Data ...   \n",
       "118  \\nStatistics for Data Science: Introduction to...   \n",
       "119  \\n10 Useful Data Analysis Expressions (DAX) Fu...   \n",
       "120  \\nA Beginner’s Guide to Tidyverse – The Most P...   \n",
       "121  \\nA Practical Introduction to Prescriptive Ana...   \n",
       "122  \\nExtracting and Analyzing 1000 Basketball Gam...   \n",
       "123  \\nA Guide to Understanding Convolutional Neura...   \n",
       "124  \\nStatistics for Data Science: Introduction to...   \n",
       "125  \\nDon’t Miss these 5 Data Science GitHub Proje...   \n",
       "126  \\nLast Chance to Register on our Flagship Prog...   \n",
       "127  \\nWinning Solutions and Approaches from the Ma...   \n",
       "128  \\n8 Awesome Data Science Capstone Projects fro...   \n",
       "129  \\nLearn how to Build and Deploy a Chatbot in M...   \n",
       "130  \\nHow I Built Animated Plots in R to Analyze m...   \n",
       "131  \\nDataHack Radio #22: Exploring Computer Visio...   \n",
       "132  \\nPredicting Movie Genres using NLP – An Aweso...   \n",
       "133  \\nA Hands-On Introduction to Deep Q-Learning u...   \n",
       "134  \\n8 Useful R Packages for Data Science You Are...   \n",
       "135  \\nBuild your First Multi-Label Image Classific...   \n",
       "136  \\nDataHack Radio #21: Detecting Fake News usin...   \n",
       "137  \\nTop 5 Interesting Applications of GANs for E...   \n",
       "138  \\nTop 5 Machine Learning GitHub Repositories a...   \n",
       "139  \\nComputer Vision Tutorial: A Step-by-Step Int...   \n",
       "140  \\n16 OpenCV Functions to Start your Computer V...   \n",
       "141  \\nInfographic: 11 Steps to Transition into Dat...   \n",
       "142  \\nDataHack Radio #20: Building Interpretable M...   \n",
       "143  \\n8 Excellent Pretrained Models to get you Sta...   \n",
       "\n",
       "                                                  Link  \\\n",
       "0    https://www.analyticsvidhya.com/blog/2019/12/5...   \n",
       "1    https://www.analyticsvidhya.com/blog/2019/12/f...   \n",
       "2    https://www.analyticsvidhya.com/blog/2019/12/2...   \n",
       "3    https://www.analyticsvidhya.com/blog/2019/12/3...   \n",
       "4    https://www.analyticsvidhya.com/blog/2019/12/2...   \n",
       "5    https://www.analyticsvidhya.com/blog/2019/12/n...   \n",
       "6    https://www.analyticsvidhya.com/blog/2019/12/d...   \n",
       "7    https://www.analyticsvidhya.com/blog/2019/12/s...   \n",
       "8    https://www.analyticsvidhya.com/blog/2019/12/1...   \n",
       "9    https://www.analyticsvidhya.com/blog/2019/12/g...   \n",
       "10   https://www.analyticsvidhya.com/blog/2020/05/p...   \n",
       "11   https://www.analyticsvidhya.com/blog/2020/05/5...   \n",
       "12   https://www.analyticsvidhya.com/blog/2020/05/g...   \n",
       "13   https://www.analyticsvidhya.com/blog/2020/05/p...   \n",
       "14   https://www.analyticsvidhya.com/blog/2019/12/6...   \n",
       "15   https://www.analyticsvidhya.com/blog/2019/12/i...   \n",
       "16   https://www.analyticsvidhya.com/blog/2019/12/c...   \n",
       "17   https://www.analyticsvidhya.com/blog/2019/12/d...   \n",
       "18   https://www.analyticsvidhya.com/blog/2019/12/6...   \n",
       "19   https://www.analyticsvidhya.com/blog/2019/11/d...   \n",
       "20   https://www.analyticsvidhya.com/blog/2019/11/w...   \n",
       "21   https://www.analyticsvidhya.com/blog/2019/11/s...   \n",
       "22   https://www.analyticsvidhya.com/blog/2019/11/c...   \n",
       "23   https://www.analyticsvidhya.com/blog/2019/11/b...   \n",
       "24   https://www.analyticsvidhya.com/blog/2019/11/i...   \n",
       "25   https://www.analyticsvidhya.com/blog/2019/11/g...   \n",
       "26   https://www.analyticsvidhya.com/blog/2019/11/4...   \n",
       "27   https://www.analyticsvidhya.com/blog/2019/11/g...   \n",
       "28   https://www.analyticsvidhya.com/blog/2019/11/m...   \n",
       "29   https://www.analyticsvidhya.com/blog/2019/11/6...   \n",
       "..                                                 ...   \n",
       "114  https://www.analyticsvidhya.com/blog/2019/05/b...   \n",
       "115  https://www.analyticsvidhya.com/blog/2019/05/b...   \n",
       "116  https://www.analyticsvidhya.com/blog/2019/05/u...   \n",
       "117  https://www.analyticsvidhya.com/blog/2019/05/s...   \n",
       "118  https://www.analyticsvidhya.com/blog/2019/05/s...   \n",
       "119  https://www.analyticsvidhya.com/blog/2019/05/1...   \n",
       "120  https://www.analyticsvidhya.com/blog/2019/05/b...   \n",
       "121  https://www.analyticsvidhya.com/blog/2019/05/p...   \n",
       "122  https://www.analyticsvidhya.com/blog/2019/05/s...   \n",
       "123  https://www.analyticsvidhya.com/blog/2019/05/u...   \n",
       "124  https://www.analyticsvidhya.com/blog/2019/05/s...   \n",
       "125  https://www.analyticsvidhya.com/blog/2019/05/5...   \n",
       "126  https://www.analyticsvidhya.com/blog/2019/05/l...   \n",
       "127  https://www.analyticsvidhya.com/blog/2019/04/m...   \n",
       "128  https://www.analyticsvidhya.com/blog/2019/04/8...   \n",
       "129  https://www.analyticsvidhya.com/blog/2019/04/l...   \n",
       "130  https://www.analyticsvidhya.com/blog/2019/04/h...   \n",
       "131  https://www.analyticsvidhya.com/blog/2019/04/d...   \n",
       "132  https://www.analyticsvidhya.com/blog/2019/04/p...   \n",
       "133  https://www.analyticsvidhya.com/blog/2019/04/i...   \n",
       "134  https://www.analyticsvidhya.com/blog/2019/04/8...   \n",
       "135  https://www.analyticsvidhya.com/blog/2019/04/b...   \n",
       "136  https://www.analyticsvidhya.com/blog/2019/04/d...   \n",
       "137  https://www.analyticsvidhya.com/blog/2019/04/t...   \n",
       "138  https://www.analyticsvidhya.com/blog/2019/04/t...   \n",
       "139  https://www.analyticsvidhya.com/blog/2019/04/i...   \n",
       "140  https://www.analyticsvidhya.com/blog/2019/03/o...   \n",
       "141  https://www.analyticsvidhya.com/blog/2019/03/i...   \n",
       "142  https://www.analyticsvidhya.com/blog/2019/03/d...   \n",
       "143  https://www.analyticsvidhya.com/blog/2019/03/p...   \n",
       "\n",
       "                                               content  \n",
       "0    [\n",
       ", <div class=\"maha-crumbs\"><span><span><a hr...  \n",
       "1    [\n",
       ", <div class=\"maha-crumbs\"><span><span><a hr...  \n",
       "2    [\n",
       ", <div class=\"maha-crumbs\"><span><span><a hr...  \n",
       "3    [\n",
       ", <div class=\"maha-crumbs\"><span><span><a hr...  \n",
       "4    [\n",
       ", <div class=\"maha-crumbs\"><span><span><a hr...  \n",
       "5    [\n",
       ", <div class=\"maha-crumbs\"><span><span><a hr...  \n",
       "6    [\n",
       ", <div class=\"maha-crumbs\"><span><span><a hr...  \n",
       "7    [\n",
       ", <div class=\"maha-crumbs\"><span><span><a hr...  \n",
       "8    [\n",
       ", <div class=\"maha-crumbs\"><span><span><a hr...  \n",
       "9    [\n",
       ", <div class=\"maha-crumbs\"><span><span><a hr...  \n",
       "10   [\n",
       ", <div class=\"maha-crumbs\"><span><span><a hr...  \n",
       "11   [\n",
       ", <div class=\"maha-crumbs\"><span><span><a hr...  \n",
       "12   [\n",
       ", <div class=\"maha-crumbs\"><span><span><a hr...  \n",
       "13   [\n",
       ", <div class=\"maha-crumbs\"><span><span><a hr...  \n",
       "14   [\n",
       ", <div class=\"maha-crumbs\"><span><span><a hr...  \n",
       "15   [\n",
       ", <div class=\"maha-crumbs\"><span><span><a hr...  \n",
       "16   [\n",
       ", <div class=\"maha-crumbs\"><span><span><a hr...  \n",
       "17   [\n",
       ", <div class=\"maha-crumbs\"><span><span><a hr...  \n",
       "18   [\n",
       ", <div class=\"maha-crumbs\"><span><span><a hr...  \n",
       "19   [\n",
       ", <div class=\"maha-crumbs\"><span><span><a hr...  \n",
       "20   [\n",
       ", <div class=\"maha-crumbs\"><span><span><a hr...  \n",
       "21   [\n",
       ", <div class=\"maha-crumbs\"><span><span><a hr...  \n",
       "22   [\n",
       ", <div class=\"maha-crumbs\"><span><span><a hr...  \n",
       "23   [\n",
       ", <div class=\"maha-crumbs\"><span><span><a hr...  \n",
       "24   [\n",
       ", <div class=\"maha-crumbs\"><span><span><a hr...  \n",
       "25   [\n",
       ", <div class=\"maha-crumbs\"><span><span><a hr...  \n",
       "26   [\n",
       ", <div class=\"maha-crumbs\"><span><span><a hr...  \n",
       "27   [\n",
       ", <div class=\"maha-crumbs\"><span><span><a hr...  \n",
       "28   [\n",
       ", <div class=\"maha-crumbs\"><span><span><a hr...  \n",
       "29   [\n",
       ", <div class=\"maha-crumbs\"><span><span><a hr...  \n",
       "..                                                 ...  \n",
       "114  [\n",
       ", <div class=\"maha-crumbs\"><span><span><a hr...  \n",
       "115  [\n",
       ", <div class=\"maha-crumbs\"><span><span><a hr...  \n",
       "116  [\n",
       ", <div class=\"maha-crumbs\"><span><span><a hr...  \n",
       "117  [\n",
       ", <div class=\"maha-crumbs\"><span><span><a hr...  \n",
       "118  [\n",
       ", <div class=\"maha-crumbs\"><span><span><a hr...  \n",
       "119  [\n",
       ", <div class=\"maha-crumbs\"><span><span><a hr...  \n",
       "120  [\n",
       ", <div class=\"maha-crumbs\"><span><span><a hr...  \n",
       "121  [\n",
       ", <div class=\"maha-crumbs\"><span><span><a hr...  \n",
       "122  [\n",
       ", <div class=\"maha-crumbs\"><span><span><a hr...  \n",
       "123  [\n",
       ", <div class=\"maha-crumbs\"><span><span><a hr...  \n",
       "124  [\n",
       ", <div class=\"maha-crumbs\"><span><span><a hr...  \n",
       "125  [\n",
       ", <div class=\"maha-crumbs\"><span><span><a hr...  \n",
       "126  [\n",
       ", <div class=\"maha-crumbs\"><span><span><a hr...  \n",
       "127  [\n",
       ", <div class=\"maha-crumbs\"><span><span><a hr...  \n",
       "128  [\n",
       ", <div class=\"maha-crumbs\"><span><span><a hr...  \n",
       "129  [\n",
       ", <div class=\"maha-crumbs\"><span><span><a hr...  \n",
       "130  [\n",
       ", <div class=\"maha-crumbs\"><span><span><a hr...  \n",
       "131  [\n",
       ", <div class=\"maha-crumbs\"><span><span><a hr...  \n",
       "132  [\n",
       ", <div class=\"maha-crumbs\"><span><span><a hr...  \n",
       "133  [\n",
       ", <div class=\"maha-crumbs\"><span><span><a hr...  \n",
       "134  [\n",
       ", <div class=\"maha-crumbs\"><span><span><a hr...  \n",
       "135  [\n",
       ", <div class=\"maha-crumbs\"><span><span><a hr...  \n",
       "136  [\n",
       ", <div class=\"maha-crumbs\"><span><span><a hr...  \n",
       "137  [\n",
       ", <div class=\"maha-crumbs\"><span><span><a hr...  \n",
       "138  [\n",
       ", <div class=\"maha-crumbs\"><span><span><a hr...  \n",
       "139  [\n",
       ", <div class=\"maha-crumbs\"><span><span><a hr...  \n",
       "140  [\n",
       ", <div class=\"maha-crumbs\"><span><span><a hr...  \n",
       "141  [\n",
       ", <div class=\"maha-crumbs\"><span><span><a hr...  \n",
       "142  [\n",
       ", <div class=\"maha-crumbs\"><span><span><a hr...  \n",
       "143  [\n",
       ", <div class=\"maha-crumbs\"><span><span><a hr...  \n",
       "\n",
       "[144 rows x 3 columns]"
      ]
     },
     "execution_count": 478,
     "metadata": {},
     "output_type": "execute_result"
    }
   ],
   "source": [
    "df1"
   ]
  },
  {
   "cell_type": "markdown",
   "metadata": {},
   "source": [
    "Task 19\n",
    "We have all the content now, Lets clean it\n",
    "\n",
    "Remove all the html tags from the contents and print the first five rows of it."
   ]
  },
  {
   "cell_type": "code",
   "execution_count": 170,
   "metadata": {},
   "outputs": [
    {
     "name": "stdout",
     "output_type": "stream",
     "text": [
      "Collecting html2text\n",
      "  Downloading https://files.pythonhosted.org/packages/ae/88/14655f727f66b3e3199f4467bafcc88283e6c31b562686bf606264e09181/html2text-2020.1.16-py3-none-any.whl\n",
      "Installing collected packages: html2text\n",
      "Successfully installed html2text-2020.1.16\n"
     ]
    }
   ],
   "source": [
    "!pip install html2text"
   ]
  },
  {
   "cell_type": "code",
   "execution_count": 171,
   "metadata": {},
   "outputs": [],
   "source": [
    "import html2text"
   ]
  },
  {
   "cell_type": "code",
   "execution_count": 479,
   "metadata": {},
   "outputs": [],
   "source": [
    "i = 0\n",
    "for x in articles_df['content']:\n",
    "    df1.at[i,'content'] = html2text.html2text(str(x))\n",
    "    i += 1"
   ]
  },
  {
   "cell_type": "markdown",
   "metadata": {},
   "source": [
    "Task 20\n",
    "Still some links will show up, so now split it on \\n\\n and remove all the elements with links in it."
   ]
  },
  {
   "cell_type": "code",
   "execution_count": 414,
   "metadata": {},
   "outputs": [],
   "source": [
    "import re"
   ]
  },
  {
   "cell_type": "code",
   "execution_count": 480,
   "metadata": {},
   "outputs": [],
   "source": [
    "i = 0\n",
    "for x in df1['content']:\n",
    "    check = x.split('\\n\\n')\n",
    "    copy_list = check.copy()\n",
    "    for y in check:\n",
    "         if re.search(r'''http[s|:]''',y):\n",
    "            copy_list.remove(y)\n",
    "    df1.at[i,'content'] = copy_list\n",
    "    i += 1"
   ]
  },
  {
   "cell_type": "markdown",
   "metadata": {},
   "source": [
    "Task 21\n",
    "Join all the contents in using '\\n\\n' and make it a single string again."
   ]
  },
  {
   "cell_type": "code",
   "execution_count": 481,
   "metadata": {},
   "outputs": [],
   "source": [
    "i = 0\n",
    "for x in df1['content']:\n",
    "    new = '\\n\\n'.join(x)\n",
    "    df1.at[i,'content'] = new\n",
    "    i += 1"
   ]
  },
  {
   "cell_type": "markdown",
   "metadata": {},
   "source": [
    "Task 22\n",
    "Replace all \\n and \\t with space."
   ]
  },
  {
   "cell_type": "code",
   "execution_count": 484,
   "metadata": {},
   "outputs": [],
   "source": [
    "i = 0\n",
    "for x in df1['content']:\n",
    "    for y in x:\n",
    "        if y == '\\t' or y == '\\n':\n",
    "            x = x.replace(y,\" \")\n",
    "    df1.at[i,'content'] = x\n",
    "    i += 1"
   ]
  },
  {
   "cell_type": "markdown",
   "metadata": {},
   "source": [
    "Task 23\n",
    "Remove all the punctuation from the text."
   ]
  },
  {
   "cell_type": "code",
   "execution_count": 485,
   "metadata": {},
   "outputs": [],
   "source": [
    "i = 0\n",
    "for x in df1['content']:\n",
    "    y = re.sub(r\"[^a-zA-Z0-9]\", \" \", x)\n",
    "    df1.at[i,'content'] = y\n",
    "    i += 1"
   ]
  },
  {
   "cell_type": "markdown",
   "metadata": {},
   "source": [
    "Task 24\n",
    "Lowercase the whole content columns."
   ]
  },
  {
   "cell_type": "code",
   "execution_count": 503,
   "metadata": {},
   "outputs": [],
   "source": [
    "i = 0\n",
    "for x in df1['content']:\n",
    "    y = x.lower()\n",
    "    df1.at[i,'content'] = y\n",
    "    i += 1"
   ]
  },
  {
   "cell_type": "markdown",
   "metadata": {},
   "source": [
    "Task 25\n",
    "Tokenise the whole content column"
   ]
  },
  {
   "cell_type": "code",
   "execution_count": 505,
   "metadata": {},
   "outputs": [],
   "source": [
    "import nltk"
   ]
  },
  {
   "cell_type": "code",
   "execution_count": 506,
   "metadata": {},
   "outputs": [],
   "source": [
    "from nltk import word_tokenize"
   ]
  },
  {
   "cell_type": "code",
   "execution_count": 509,
   "metadata": {},
   "outputs": [],
   "source": [
    "i = 0\n",
    "for text in df1['content']:\n",
    "    word_token = word_tokenize(text)\n",
    "    df1.at[i,'content'] = word_token\n",
    "    i += 1"
   ]
  },
  {
   "cell_type": "markdown",
   "metadata": {},
   "source": [
    "Task 26\n",
    "Remove all the stopwords from the content."
   ]
  },
  {
   "cell_type": "code",
   "execution_count": 516,
   "metadata": {},
   "outputs": [],
   "source": [
    "from nltk.corpus import stopwords\n",
    "stop = set(stopwords.words('english'))\n",
    "i = 0\n",
    "for x in df1['content']:\n",
    "    temp_list = []\n",
    "    for word in x:\n",
    "        if word not in stop:\n",
    "            temp_list.append(word)\n",
    "    df1.at[i,'content'] = temp_list\n",
    "    i += 1\n",
    "            \n",
    "        "
   ]
  },
  {
   "cell_type": "markdown",
   "metadata": {},
   "source": [
    "Task 27\n",
    "Remove all the words containing numbers."
   ]
  },
  {
   "cell_type": "code",
   "execution_count": 532,
   "metadata": {},
   "outputs": [],
   "source": [
    "i = 0\n",
    "for x in df1['content']:\n",
    "    temp_list = []\n",
    "    for word in x:\n",
    "        if word.isalpha():\n",
    "            temp_list.append(word)\n",
    "    df1.at[i,'content'] = temp_list\n",
    "    i += 1"
   ]
  },
  {
   "cell_type": "markdown",
   "metadata": {},
   "source": [
    "Task 28\n",
    "Create a vocab appending all the rows and print its length."
   ]
  },
  {
   "cell_type": "code",
   "execution_count": 541,
   "metadata": {},
   "outputs": [],
   "source": [
    "vocab = []\n",
    "for x in df1['content']:\n",
    "    for y in x:\n",
    "        vocab.append(y)"
   ]
  },
  {
   "cell_type": "markdown",
   "metadata": {},
   "source": [
    "Task 29\n",
    "Build a word cloud of the vocab"
   ]
  },
  {
   "cell_type": "code",
   "execution_count": 547,
   "metadata": {},
   "outputs": [],
   "source": [
    "from wordcloud import WordCloud, STOPWORDS \n",
    "import matplotlib.pyplot as plt \n",
    "import pandas as pd "
   ]
  },
  {
   "cell_type": "code",
   "execution_count": 551,
   "metadata": {},
   "outputs": [],
   "source": [
    "stopwords = set(STOPWORDS)\n",
    "words = \" \".join(vocab)"
   ]
  },
  {
   "cell_type": "code",
   "execution_count": 585,
   "metadata": {},
   "outputs": [],
   "source": [
    "wordcloud = WordCloud(width = 800, height = 800, \n",
    "                background_color ='white', \n",
    "                stopwords = stopwords, \n",
    "                min_font_size = 10).generate(words) "
   ]
  },
  {
   "cell_type": "code",
   "execution_count": 586,
   "metadata": {},
   "outputs": [
    {
     "data": {
      "image/png": "[encoded data removed]",
      "text/plain": [
       "<Figure size 576x576 with 1 Axes>"
      ]
     },
     "metadata": {
      "needs_background": "light"
     },
     "output_type": "display_data"
    }
   ],
   "source": [
    "plt.figure(figsize = (8, 8), facecolor = None) \n",
    "plt.imshow(wordcloud) \n",
    "plt.axis(\"off\") \n",
    "plt.tight_layout(pad = 0) \n",
    "  \n",
    "plt.show() "
   ]
  },
  {
   "cell_type": "code",
   "execution_count": null,
   "metadata": {},
   "outputs": [],
   "source": []
  }
 ],
 "metadata": {
  "kernelspec": {
   "display_name": "Python 3",
   "language": "python",
   "name": "python3"
  },
  "language_info": {
   "codemirror_mode": {
    "name": "ipython",
    "version": 3
   },
   "file_extension": ".py",
   "mimetype": "text/x-python",
   "name": "python",
   "nbconvert_exporter": "python",
   "pygments_lexer": "ipython3",
   "version": "3.7.1"
  }
 },
 "nbformat": 4,
 "nbformat_minor": 2
}
